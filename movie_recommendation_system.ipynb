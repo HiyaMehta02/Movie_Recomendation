{
 "cells": [
  {
   "cell_type": "code",
   "execution_count": null,
   "metadata": {
    "vscode": {
     "languageId": "plaintext"
    }
   },
   "outputs": [],
   "source": [
    "# !pip install pandas numpy scikit-learn"
   ]
  },
  {
   "cell_type": "code",
   "execution_count": null,
   "metadata": {
    "vscode": {
     "languageId": "plaintext"
    }
   },
   "outputs": [],
   "source": [
    "import pandas as pd\n",
    "import numpy as np\n",
    "from sklearn.metrics.pairwise import cosine_similarity\n",
    "import warnings\n",
    "warnings.filterwarnings(\"ignore\")"
   ]
  },
  {
   "cell_type": "code",
   "execution_count": null,
   "metadata": {
    "vscode": {
     "languageId": "plaintext"
    }
   },
   "outputs": [],
   "source": [
    "ratings = pd.read_csv(r'ml-latest-small\\ratings.csv')  # Replace with your path\n",
    "movies = pd.read_csv(r'ml-latest-small\\movies.csv')    # Replace with your path\n",
    "\n",
    "ratings.head(), movies.head()"
   ]
  },
  {
   "cell_type": "code",
   "execution_count": null,
   "metadata": {
    "vscode": {
     "languageId": "plaintext"
    }
   },
   "outputs": [],
   "source": [
    "ratings_movies = pd.merge(ratings, movies, on='movieId')\n",
    "\n",
    "user_item_matrix = ratings.pivot(index='userId', columns='movieId', values='rating')\n",
    "\n",
    "user_item_matrix = user_item_matrix.fillna(0)\n",
    "\n",
    "user_item_matrix.head()"
   ]
  },
  {
   "cell_type": "code",
   "execution_count": null,
   "metadata": {
    "vscode": {
     "languageId": "plaintext"
    }
   },
   "outputs": [],
   "source": [
    "similarity_matrix = cosine_similarity(user_item_matrix)\n",
    "\n",
    "similarity_df = pd.DataFrame(similarity_matrix, index=user_item_matrix.index, columns=user_item_matrix.index)\n",
    "\n",
    "similarity_df.head()"
   ]
  },
  {
   "cell_type": "code",
   "execution_count": null,
   "metadata": {
    "vscode": {
     "languageId": "plaintext"
    }
   },
   "outputs": [],
   "source": [
    "# Function to recommend movies for a given user\n",
    "def recommend_movies(user_id, user_item_matrix, similarity_df, k=5, num_recommendations=10):\n",
    "    user_ratings = user_item_matrix.loc[user_id]\n",
    "    rated_movies = user_ratings[user_ratings > 0].index  # Movies already rated by the user\n",
    "\n",
    "    # Compute weighted average ratings for all unrated movies\n",
    "    similarity_scores = similarity_df[user_id]  # Similarity scores for the given user\n",
    "    unrated_movies = user_item_matrix.columns.difference(rated_movies)\n",
    "    predicted_ratings = {}\n",
    "\n",
    "    for movie in unrated_movies:\n",
    "        other_user_ratings = user_item_matrix[movie]\n",
    "        weighted_sum = np.dot(similarity_scores, other_user_ratings)\n",
    "        sum_of_similarities = np.sum(similarity_scores[other_user_ratings > 0])\n",
    "\n",
    "        if sum_of_similarities > 0:\n",
    "            predicted_ratings[movie] = weighted_sum / sum_of_similarities\n",
    "        else:\n",
    "            predicted_ratings[movie] = 0\n",
    "\n",
    "    # Sort movies by predicted ratings\n",
    "    recommended_movies = sorted(predicted_ratings.items(), key=lambda x: x[1], reverse=True)[:num_recommendations]\n",
    "    return [(movies.loc[movies['movieId'] == movie].iloc[0]['title'], rating) for movie, rating in recommended_movies]\n"
   ]
  },
  {
   "cell_type": "code",
   "execution_count": null,
   "metadata": {
    "vscode": {
     "languageId": "plaintext"
    }
   },
   "outputs": [],
   "source": [
    "user_id = 1  # Example user\n",
    "recommendations = recommend_movies(user_id, user_item_matrix, similarity_df, k=5, num_recommendations=10)\n",
    "\n",
    "print(f\"Top movie recommendations for User {user_id}:\")\n",
    "for i, (movie, score) in enumerate(recommendations, 1):\n",
    "    print(f\"{i}. {movie} (Predicted rating: {score:.2f})\")"
   ]
  }
 ],
 "metadata": {
  "language_info": {
   "name": "python"
  }
 },
 "nbformat": 4,
 "nbformat_minor": 2
}
